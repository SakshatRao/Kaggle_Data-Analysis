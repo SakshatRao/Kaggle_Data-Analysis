{
 "cells": [
  {
   "cell_type": "markdown",
   "id": "detected-dining",
   "metadata": {
    "papermill": {
     "duration": 0.01865,
     "end_time": "2021-06-06T19:57:42.898548",
     "exception": false,
     "start_time": "2021-06-06T19:57:42.879898",
     "status": "completed"
    },
    "tags": []
   },
   "source": [
    "# Investigating UFO Sighting Reports\n",
    "## - By Sakshat Rao\n",
    "\n",
    "For this analysis, I am using a dataset containing approximately 90000 UFO Sighting details. The dataset contains the textual report, geographical details of the sighting spot and other additional information like duration and shape of the possible UFO.\n",
    "\n",
    "It is possible to analyze the geography and time series of UFO sightings; in fact there is this [nice analysis](https://www.kaggle.com/ricardoxp1/spatial-analysis-of-ufo-sightings-on-us) which looks at spatial autocorrelation among different states of USA for different time periods. However, for my purpose, I wanted to analyze the textual reports and try to gain some insights about the UFO sightings through these reports.\n",
    "\n",
    "This is a small analysis aimed at making use of NLP techniques to extract relevant information from this huge stack of textual reports. The analysis is not perfect as I have made and mentioned few assumptions during the course of this analysis. However, my main objective is to show how NLP can possibly be used with the reports to answer certain valid questions."
   ]
  },
  {
   "cell_type": "markdown",
   "id": "focal-concentrate",
   "metadata": {
    "papermill": {
     "duration": 0.016965,
     "end_time": "2021-06-06T19:57:42.935159",
     "exception": false,
     "start_time": "2021-06-06T19:57:42.918194",
     "status": "completed"
    },
    "tags": []
   },
   "source": [
    "## Table of Content\n",
    "1. [Extracting UFO-specific Word Embeddings](#1)\n",
    "2. [Visualizing the shape and color of UFO sightings](#2)\n",
    "3. [Measuring level of detail of reports](#3)\n",
    "4. [Quantifying Durations](#4)"
   ]
  },
  {
   "cell_type": "code",
   "execution_count": 1,
   "id": "satisfactory-renaissance",
   "metadata": {
    "_kg_hide-input": true,
    "_kg_hide-output": true,
    "execution": {
     "iopub.execute_input": "2021-06-06T19:57:42.974861Z",
     "iopub.status.busy": "2021-06-06T19:57:42.973720Z",
     "iopub.status.idle": "2021-06-06T19:58:04.839135Z",
     "shell.execute_reply": "2021-06-06T19:58:04.838401Z",
     "shell.execute_reply.started": "2021-06-06T17:58:31.10319Z"
    },
    "papermill": {
     "duration": 21.886439,
     "end_time": "2021-06-06T19:58:04.839333",
     "exception": false,
     "start_time": "2021-06-06T19:57:42.952894",
     "status": "completed"
    },
    "tags": []
   },
   "outputs": [
    {
     "name": "stdout",
     "output_type": "stream",
     "text": [
      "Collecting word2number\r\n",
      "  Downloading word2number-1.1.zip (9.7 kB)\r\n",
      "Building wheels for collected packages: word2number\r\n",
      "  Building wheel for word2number (setup.py) ... \u001b[?25l-\b \b\\\b \bdone\r\n",
      "\u001b[?25h  Created wheel for word2number: filename=word2number-1.1-py3-none-any.whl size=5586 sha256=fb093fa0e166e988e4b462572a4106ecd0e4083e96cf0a3a55c5fa43a5c73671\r\n",
      "  Stored in directory: /root/.cache/pip/wheels/4b/c3/77/a5f48aeb0d3efb7cd5ad61cbd3da30bbf9ffc9662b07c9f879\r\n",
      "Successfully built word2number\r\n",
      "Installing collected packages: word2number\r\n",
      "Successfully installed word2number-1.1\r\n",
      "Collecting webcolors==1.3\r\n",
      "  Downloading webcolors-1.3.tar.gz (9.9 kB)\r\n",
      "Building wheels for collected packages: webcolors\r\n",
      "  Building wheel for webcolors (setup.py) ... \u001b[?25l-\b \b\\\b \bdone\r\n",
      "\u001b[?25h  Created wheel for webcolors: filename=webcolors-1.3-py3-none-any.whl size=13008 sha256=1394cc41bb0ad04484c66dae81f0de066f7766b5f2e69e5fb73b39ad4b1005ed\r\n",
      "  Stored in directory: /root/.cache/pip/wheels/49/2e/e7/5078ca745677e53dae9856cf41c114b7b91ada9d5f4d1a8d54\r\n",
      "Successfully built webcolors\r\n",
      "Installing collected packages: webcolors\r\n",
      "Successfully installed webcolors-1.3\r\n"
     ]
    }
   ],
   "source": [
    "!pip install word2number\n",
    "!pip install webcolors==1.3\n",
    "\n",
    "import numpy as np\n",
    "import pandas as pd\n",
    "\n",
    "import os\n",
    "import re\n",
    "import math\n",
    "from word2number import w2n\n",
    "import webcolors\n",
    "from time import time\n",
    "from collections import defaultdict, Counter\n",
    "from tqdm.notebook import tqdm\n",
    "\n",
    "import scipy.stats as stats\n",
    "\n",
    "import spacy\n",
    "import multiprocessing\n",
    "from gensim.models.phrases import Phrases, Phraser\n",
    "from gensim.models import Word2Vec\n",
    "import nltk\n",
    "from nltk.tokenize import word_tokenize\n",
    "\n",
    "import matplotlib.pyplot as plt\n",
    "import seaborn as sns\n",
    "from matplotlib.patches import Rectangle, Circle, Ellipse, Polygon"
   ]
  },
  {
   "cell_type": "code",
   "execution_count": 2,
   "id": "conservative-placement",
   "metadata": {
    "_kg_hide-input": true,
    "execution": {
     "iopub.execute_input": "2021-06-06T19:58:04.893400Z",
     "iopub.status.busy": "2021-06-06T19:58:04.892714Z",
     "iopub.status.idle": "2021-06-06T19:58:08.159304Z",
     "shell.execute_reply": "2021-06-06T19:58:08.158752Z"
    },
    "papermill": {
     "duration": 3.296109,
     "end_time": "2021-06-06T19:58:08.159448",
     "exception": false,
     "start_time": "2021-06-06T19:58:04.863339",
     "status": "completed"
    },
    "tags": []
   },
   "outputs": [
    {
     "data": {
      "text/html": [
       "<div>\n",
       "<style scoped>\n",
       "    .dataframe tbody tr th:only-of-type {\n",
       "        vertical-align: middle;\n",
       "    }\n",
       "\n",
       "    .dataframe tbody tr th {\n",
       "        vertical-align: top;\n",
       "    }\n",
       "\n",
       "    .dataframe thead th {\n",
       "        text-align: right;\n",
       "    }\n",
       "</style>\n",
       "<table border=\"1\" class=\"dataframe\">\n",
       "  <thead>\n",
       "    <tr style=\"text-align: right;\">\n",
       "      <th></th>\n",
       "      <th>city</th>\n",
       "      <th>state</th>\n",
       "      <th>date_time</th>\n",
       "      <th>shape</th>\n",
       "      <th>duration</th>\n",
       "      <th>text</th>\n",
       "      <th>city_latitude</th>\n",
       "      <th>city_longitude</th>\n",
       "    </tr>\n",
       "  </thead>\n",
       "  <tbody>\n",
       "    <tr>\n",
       "      <th>0</th>\n",
       "      <td>Chester</td>\n",
       "      <td>VA</td>\n",
       "      <td>2019-12-12 18:43:00</td>\n",
       "      <td>light</td>\n",
       "      <td>5 seconds</td>\n",
       "      <td>My wife was driving southeast on a fairly popu...</td>\n",
       "      <td>37.343152</td>\n",
       "      <td>-77.408582</td>\n",
       "    </tr>\n",
       "    <tr>\n",
       "      <th>1</th>\n",
       "      <td>Rocky Hill</td>\n",
       "      <td>CT</td>\n",
       "      <td>2019-03-22 18:30:00</td>\n",
       "      <td>circle</td>\n",
       "      <td>3-5 seconds</td>\n",
       "      <td>I think that I may caught a UFO on the NBC Nig...</td>\n",
       "      <td>41.664800</td>\n",
       "      <td>-72.639300</td>\n",
       "    </tr>\n",
       "    <tr>\n",
       "      <th>2</th>\n",
       "      <td>NaN</td>\n",
       "      <td>NaN</td>\n",
       "      <td>NaT</td>\n",
       "      <td>NaN</td>\n",
       "      <td>NaN</td>\n",
       "      <td>I woke up late in the afternoon 3:30-4pm.  I w...</td>\n",
       "      <td>NaN</td>\n",
       "      <td>NaN</td>\n",
       "    </tr>\n",
       "    <tr>\n",
       "      <th>3</th>\n",
       "      <td>Ottawa</td>\n",
       "      <td>ON</td>\n",
       "      <td>2019-04-17 02:00:00</td>\n",
       "      <td>teardrop</td>\n",
       "      <td>10 seconds</td>\n",
       "      <td>I was driving towards the intersection of fall...</td>\n",
       "      <td>45.381383</td>\n",
       "      <td>-75.708501</td>\n",
       "    </tr>\n",
       "    <tr>\n",
       "      <th>4</th>\n",
       "      <td>Peoria</td>\n",
       "      <td>NY</td>\n",
       "      <td>2009-03-15 18:00:00</td>\n",
       "      <td>cigar</td>\n",
       "      <td>2 minutes</td>\n",
       "      <td>In Peoria, Arizona, I saw a cigar shaped craft...</td>\n",
       "      <td>NaN</td>\n",
       "      <td>NaN</td>\n",
       "    </tr>\n",
       "  </tbody>\n",
       "</table>\n",
       "</div>"
      ],
      "text/plain": [
       "         city state           date_time     shape     duration  \\\n",
       "0     Chester    VA 2019-12-12 18:43:00     light    5 seconds   \n",
       "1  Rocky Hill    CT 2019-03-22 18:30:00    circle  3-5 seconds   \n",
       "2         NaN   NaN                 NaT       NaN          NaN   \n",
       "3      Ottawa    ON 2019-04-17 02:00:00  teardrop   10 seconds   \n",
       "4      Peoria    NY 2009-03-15 18:00:00     cigar    2 minutes   \n",
       "\n",
       "                                                text  city_latitude  \\\n",
       "0  My wife was driving southeast on a fairly popu...      37.343152   \n",
       "1  I think that I may caught a UFO on the NBC Nig...      41.664800   \n",
       "2  I woke up late in the afternoon 3:30-4pm.  I w...            NaN   \n",
       "3  I was driving towards the intersection of fall...      45.381383   \n",
       "4  In Peoria, Arizona, I saw a cigar shaped craft...            NaN   \n",
       "\n",
       "   city_longitude  \n",
       "0      -77.408582  \n",
       "1      -72.639300  \n",
       "2             NaN  \n",
       "3      -75.708501  \n",
       "4             NaN  "
      ]
     },
     "execution_count": 2,
     "metadata": {},
     "output_type": "execute_result"
    }
   ],
   "source": [
    "raw_data = pd.read_csv('/kaggle/input/ufo-sightings-approx-100000/nuforc_reports.csv', usecols = ['city', 'state', 'date_time', 'shape', 'duration', 'text', 'city_latitude', 'city_longitude'], parse_dates = ['date_time'], infer_datetime_format = True)\n",
    "raw_data.head()"
   ]
  },
  {
   "cell_type": "markdown",
   "id": "increased-faculty",
   "metadata": {
    "papermill": {
     "duration": 0.022342,
     "end_time": "2021-06-06T19:58:08.204697",
     "exception": false,
     "start_time": "2021-06-06T19:58:08.182355",
     "status": "completed"
    },
    "tags": []
   },
   "source": [
    "## Word2Vec Embeddings <a id=\"1\"></a>\n",
    "### Extracting UFO-specific Word Embeddings\n",
    "---\n",
    "The main idea here is to obtain embeddings or vector representations of different words and thus find relationships, similarities and commonness among all words. One option is to use pre-trained word embeddings like GloVe, FastText, etc. These embeddings have been obtained after training on extraordinary amounts of data. However, it might be a better idea to create our own word embeddings because of three reasons - \n",
    "1. UFO Sightings are reported by common people, hence the vocabulary used may not necessarily be the same as in news or scientific reports. In other words, several informal/slang terms may not be present in the pre-trained word embeddings.\n",
    "2. There may be several words specific to UFOs which may not be present in the pre-trained word embeddings. Examples could include shortforms like 'et' (standing for extraterrestrial).\n",
    "3. There are around 90000 reports available. Although not large, it is a decent enough amount to train word embeddings and obtain satisfactory performance."
   ]
  },
  {
   "cell_type": "code",
   "execution_count": 3,
   "id": "respected-fitting",
   "metadata": {
    "_kg_hide-input": true,
    "execution": {
     "iopub.execute_input": "2021-06-06T19:58:08.258320Z",
     "iopub.status.busy": "2021-06-06T19:58:08.257566Z",
     "iopub.status.idle": "2021-06-06T19:58:08.698158Z",
     "shell.execute_reply": "2021-06-06T19:58:08.698698Z",
     "shell.execute_reply.started": "2021-06-06T18:02:29.323542Z"
    },
    "papermill": {
     "duration": 0.471397,
     "end_time": "2021-06-06T19:58:08.698877",
     "exception": false,
     "start_time": "2021-06-06T19:58:08.227480",
     "status": "completed"
    },
    "tags": []
   },
   "outputs": [],
   "source": [
    "# nlp = spacy.load('en', disable=['ner', 'parser'])\n",
    "\n",
    "# def cleaning(doc):\n",
    "#     txt = [token.lemma_ for token in doc if not token.is_stop]\n",
    "#     if len(txt) > 2:\n",
    "#         return ' '.join(txt)\n",
    "\n",
    "# brief_cleaning = (re.sub(\"[^A-Za-z']+\", ' ', str(row)).lower() for row in raw_data['text'])\n",
    "\n",
    "# t = time()\n",
    "# txt = [cleaning(doc) for doc in nlp.pipe(brief_cleaning, batch_size=5000, n_threads=-1)]\n",
    "# print('Time to clean up everything: {} mins'.format(round((time() - t) / 60, 2)))\n",
    "\n",
    "# df_clean = pd.DataFrame({'clean': txt})\n",
    "# df_clean = df_clean.dropna().drop_duplicates()\n",
    "\n",
    "# df_clean = df_clean.reset_index(drop = False)\n",
    "# df_clean.to_csv('cleaned_ufo_texts.csv', index = False)\n",
    "\n",
    "# sent = [row.split() for row in df_clean['clean']]\n",
    "# phrases = Phrases(sent, min_count=30, progress_per=10000)\n",
    "# bigram = Phraser(phrases)\n",
    "# sentences = bigram[sent]\n",
    "\n",
    "# word_freq = defaultdict(int)\n",
    "# for sent in sentences:\n",
    "#     for i in sent:\n",
    "#         word_freq[i] += 1\n",
    "# print(f\"No. of words - {len(word_freq)}\")\n",
    "# print(\"Most frequent words - \")\n",
    "# print(sorted(word_freq, key=word_freq.get, reverse=True)[:10])\n",
    "\n",
    "# cores = multiprocessing.cpu_count()\n",
    "# w2v_model = Word2Vec(\n",
    "#     min_count=20,\n",
    "#     window=3,\n",
    "#     vector_size=300,\n",
    "#     sample=6e-5, \n",
    "#     alpha=0.03, \n",
    "#     min_alpha=0.0007, \n",
    "#     negative=20,\n",
    "#     workers=cores-1\n",
    "# )\n",
    "\n",
    "# t = time()\n",
    "# w2v_model.build_vocab(sentences, progress_per=10000)\n",
    "# print('Time to build vocab: {} mins'.format(round((time() - t) / 60, 2)))\n",
    "\n",
    "# t = time()\n",
    "# w2v_model.train(sentences, total_examples=w2v_model.corpus_count, epochs=30, report_delay=1)\n",
    "# print('Time to train the model: {} mins'.format(round((time() - t) / 60, 2)))\n",
    "\n",
    "# w2v_model.init_sims(replace=True)\n",
    "# w2v_model.save(\"ufo_text.model\")\n",
    "\n",
    "w2v_model_new = Word2Vec.load(\"/kaggle/input/ufo-word2vec/ufo_text.model\")\n",
    "\n",
    "def show_similar_words(words, target_word):\n",
    "    print(f\"Words most similar to {target_word}:\")\n",
    "    for word_idx, word in enumerate(words):\n",
    "        print(f\"{word_idx+1}. {word[0]}\", end = '')\n",
    "        for x in range(20 - len(word[0])):\n",
    "            print(' ', end = '')\n",
    "        if(word_idx % 3 == 2):\n",
    "            print()\n",
    "    print('\\n')"
   ]
  },
  {
   "cell_type": "markdown",
   "id": "assigned-offering",
   "metadata": {
    "papermill": {
     "duration": 0.02255,
     "end_time": "2021-06-06T19:58:08.744301",
     "exception": false,
     "start_time": "2021-06-06T19:58:08.721751",
     "status": "completed"
    },
    "tags": []
   },
   "source": [
    "We extract the Word2Vec word embeddings and try to find which words are similar to different keywords. The keywords I have used here are 'ufo', 'alien', 'spaceship' and 'light'."
   ]
  },
  {
   "cell_type": "code",
   "execution_count": 4,
   "id": "super-hearing",
   "metadata": {
    "_kg_hide-input": true,
    "execution": {
     "iopub.execute_input": "2021-06-06T19:58:08.793359Z",
     "iopub.status.busy": "2021-06-06T19:58:08.792674Z",
     "iopub.status.idle": "2021-06-06T19:58:08.825687Z",
     "shell.execute_reply": "2021-06-06T19:58:08.824511Z",
     "shell.execute_reply.started": "2021-06-06T18:02:30.223229Z"
    },
    "papermill": {
     "duration": 0.058746,
     "end_time": "2021-06-06T19:58:08.825952",
     "exception": false,
     "start_time": "2021-06-06T19:58:08.767206",
     "status": "completed"
    },
    "tags": []
   },
   "outputs": [
    {
     "name": "stdout",
     "output_type": "stream",
     "text": [
      "Words most similar to ufo:\n",
      "1. ufos                2. believe             3. documentary         \n",
      "4. alien               5. aliens              6. history_channel     \n",
      "7. report              8. firm_believer       9. sighting            \n",
      "10. extraterrestrial    \n",
      "\n"
     ]
    }
   ],
   "source": [
    "show_similar_words(w2v_model_new.wv.most_similar(positive=[\"ufo\"]), \"ufo\")"
   ]
  },
  {
   "cell_type": "markdown",
   "id": "synthetic-religion",
   "metadata": {
    "papermill": {
     "duration": 0.041697,
     "end_time": "2021-06-06T19:58:08.909287",
     "exception": false,
     "start_time": "2021-06-06T19:58:08.867590",
     "status": "completed"
    },
    "tags": []
   },
   "source": [
    "### We find two really interesting words which are apparently similar to UFO - documentary and history_channel.\n",
    "\n",
    "For those unaware, **History Channel** has run shows like 'Ancient Aliens' and a few more which deal with the possibility of humans already contacting aliens. There are several other shows and **documentaries** which explore this possibility.\n",
    "\n",
    "So is it fair to say that UFO sightings could have been boosted by the increased attention towards these shows? After all, these word embeddings were trained on UFO reports and they mention history_channel and documentary as being similar to UFOs.\n",
    "\n",
    "There is a condition in medical science that I would like to mention here called [Medical Student's Disease](https://en.wikipedia.org/wiki/Medical_students%27_disease). It is a condition where medical students feel they are having a disease which they are currently studying. This happens because students have studied about the disease and its symptoms very well and this causes increased awareness and fear about this disease. As a result, sometimes they could confuse their normal bodily sensations as symptoms of the disease.\n",
    "\n",
    "Could it be possible that the public also face a similar condition? Watching shows related to UFOs raises their awareness and makes them fearful about it. As a result, they may confuse normal and innocent situations/objects as being weird and extraterrestrial."
   ]
  },
  {
   "cell_type": "code",
   "execution_count": 5,
   "id": "strategic-battery",
   "metadata": {
    "_kg_hide-input": true,
    "execution": {
     "iopub.execute_input": "2021-06-06T19:58:08.971889Z",
     "iopub.status.busy": "2021-06-06T19:58:08.970574Z",
     "iopub.status.idle": "2021-06-06T19:58:08.997649Z",
     "shell.execute_reply": "2021-06-06T19:58:08.996575Z",
     "shell.execute_reply.started": "2021-06-06T18:23:14.580299Z"
    },
    "papermill": {
     "duration": 0.063959,
     "end_time": "2021-06-06T19:58:08.997902",
     "exception": false,
     "start_time": "2021-06-06T19:58:08.933943",
     "status": "completed"
    },
    "tags": []
   },
   "outputs": [
    {
     "name": "stdout",
     "output_type": "stream",
     "text": [
      "Words most similar to alien:\n",
      "1. aliens              2. believe_alien       3. extra_terrestrial   \n",
      "4. demon               5. extraterrestrial    6. being               \n",
      "7. extraterrestial     8. abduct              9. ufo                 \n",
      "10. et                  \n",
      "\n"
     ]
    }
   ],
   "source": [
    "show_similar_words(w2v_model_new.wv.most_similar(positive=[\"alien\"]), \"alien\")"
   ]
  },
  {
   "cell_type": "markdown",
   "id": "demanding-venice",
   "metadata": {
    "papermill": {
     "duration": 0.040035,
     "end_time": "2021-06-06T19:58:09.081563",
     "exception": false,
     "start_time": "2021-06-06T19:58:09.041528",
     "status": "completed"
    },
    "tags": []
   },
   "source": [
    "### Abduct seems to be similar to alien\n",
    "\n",
    "This holds well with several reports of people claiming they were abducted by aliens"
   ]
  },
  {
   "cell_type": "code",
   "execution_count": 6,
   "id": "equal-cache",
   "metadata": {
    "_kg_hide-input": true,
    "execution": {
     "iopub.execute_input": "2021-06-06T19:58:09.135897Z",
     "iopub.status.busy": "2021-06-06T19:58:09.134726Z",
     "iopub.status.idle": "2021-06-06T19:58:09.165104Z",
     "shell.execute_reply": "2021-06-06T19:58:09.162863Z",
     "shell.execute_reply.started": "2021-06-06T18:24:22.837218Z"
    },
    "papermill": {
     "duration": 0.059966,
     "end_time": "2021-06-06T19:58:09.165384",
     "exception": false,
     "start_time": "2021-06-06T19:58:09.105418",
     "status": "completed"
    },
    "tags": []
   },
   "outputs": [
    {
     "name": "stdout",
     "output_type": "stream",
     "text": [
      "Words most similar to spaceship:\n",
      "1. alien               2. sci_fi              3. ship                \n",
      "4. science_fiction     5. independence_day    6. star_trek           \n",
      "7. mother_ship         8. fairy               9. coz                 \n",
      "10. being               \n",
      "\n"
     ]
    }
   ],
   "source": [
    "show_similar_words(w2v_model_new.wv.most_similar(positive=[\"spaceship\"]), \"spaceship\")"
   ]
  },
  {
   "cell_type": "markdown",
   "id": "waiting-healing",
   "metadata": {
    "papermill": {
     "duration": 0.039786,
     "end_time": "2021-06-06T19:58:09.254276",
     "exception": false,
     "start_time": "2021-06-06T19:58:09.214490",
     "status": "completed"
    },
    "tags": []
   },
   "source": [
    "### Sci-fi movies seem to have similarities with spaceship\n",
    "\n",
    "We find two movies similar to spaceship - Independence Day & Star Trek. [Independence Day](https://en.wikipedia.org/wiki/Independence_Day_(1996_film)) is a 1996 film with an alien invasion and an enormous alien mothership at the core of its plot. [Star Trek](https://en.wikipedia.org/wiki/Star_Trek) on the other hand is not exactly about alien invasion, but nonetheless involves several spaceships like the famous starship USS Enterprise.\n",
    "\n",
    "It makes sense that both movies involve spaceships and are apparently similar to 'spaceship'. Again, we can make a similar argument here about the popularity of such sci-fi films and the depiction of UFOs in them boosting UFO sightings."
   ]
  },
  {
   "cell_type": "code",
   "execution_count": 7,
   "id": "substantial-northeast",
   "metadata": {
    "_kg_hide-input": true,
    "execution": {
     "iopub.execute_input": "2021-06-06T19:58:09.311001Z",
     "iopub.status.busy": "2021-06-06T19:58:09.309840Z",
     "iopub.status.idle": "2021-06-06T19:58:09.343606Z",
     "shell.execute_reply": "2021-06-06T19:58:09.342580Z",
     "shell.execute_reply.started": "2021-06-06T18:31:42.605021Z"
    },
    "papermill": {
     "duration": 0.064435,
     "end_time": "2021-06-06T19:58:09.343850",
     "exception": false,
     "start_time": "2021-06-06T19:58:09.279415",
     "status": "completed"
    },
    "tags": []
   },
   "outputs": [
    {
     "name": "stdout",
     "output_type": "stream",
     "text": [
      "Words most similar to light:\n",
      "1. red                 2. white               3. bright              \n",
      "4. flash               5. blink               6. yellow              \n",
      "7. flashing            8. appear              9. green               \n",
      "10. dim                 \n",
      "\n"
     ]
    }
   ],
   "source": [
    "show_similar_words(w2v_model_new.wv.most_similar(positive=[\"light\"]), \"light\")"
   ]
  },
  {
   "cell_type": "markdown",
   "id": "endless-deposit",
   "metadata": {
    "papermill": {
     "duration": 0.040297,
     "end_time": "2021-06-06T19:58:09.429001",
     "exception": false,
     "start_time": "2021-06-06T19:58:09.388704",
     "status": "completed"
    },
    "tags": []
   },
   "source": [
    "### Red, white, yellow and green seem to be the most common colors of 'UFO lights' while bright, flash, blink and dim seem to be the most common characteristics of 'UFO lights'\n",
    "\n",
    "It is fascinating to see so much information about UFO lights being obtained from these word embeddings. We can apparently infer not only the colour but also the motion of these UFO lights.\n",
    "\n",
    "In the dataset, the colour of UFO sightings is not mentioned as a column. However, it seems we can extract that from the textual reports. We will be doing that for the next section."
   ]
  },
  {
   "cell_type": "markdown",
   "id": "structural-monroe",
   "metadata": {
    "papermill": {
     "duration": 0.024189,
     "end_time": "2021-06-06T19:58:09.477680",
     "exception": false,
     "start_time": "2021-06-06T19:58:09.453491",
     "status": "completed"
    },
    "tags": []
   },
   "source": [
    "## UFO Color & Shape Analysis <a id=\"2\"></a>\n",
    "### Visualizing the shape and color of UFO sightings\n",
    "---\n",
    "We shall now extract colors of all UFO sightings from the corresponding report and after pairing them with the shape of the UFO, we can look at the most common UFO sightings."
   ]
  },
  {
   "cell_type": "code",
   "execution_count": 8,
   "id": "present-denmark",
   "metadata": {
    "_kg_hide-input": true,
    "execution": {
     "iopub.execute_input": "2021-06-06T19:58:09.555958Z",
     "iopub.status.busy": "2021-06-06T19:58:09.554911Z",
     "iopub.status.idle": "2021-06-06T19:59:30.012751Z",
     "shell.execute_reply": "2021-06-06T19:59:30.013318Z",
     "shell.execute_reply.started": "2021-06-06T18:39:12.978537Z"
    },
    "papermill": {
     "duration": 80.511441,
     "end_time": "2021-06-06T19:59:30.013511",
     "exception": false,
     "start_time": "2021-06-06T19:58:09.502070",
     "status": "completed"
    },
    "tags": []
   },
   "outputs": [
    {
     "name": "stdout",
     "output_type": "stream",
     "text": [
      "Most frequent colors:\n",
      "1. white               2. red                 3. orange              \n",
      "4. blue                5. green               6. black               \n",
      "7. yellow              8. silver              9. grey                \n",
      "10. gray                \n",
      "\n"
     ]
    },
    {
     "data": {
      "image/png": "[encoded data removed]",
      "text/plain": [
       "<Figure size 1440x1440 with 1 Axes>"
      ]
     },
     "metadata": {},
     "output_type": "display_data"
    }
   ],
   "source": [
    "df_clean = pd.read_csv('/kaggle/input/cleaned-ufo-texts/cleaned_ufo_texts.csv')\n",
    "df_clean = df_clean.set_index('index')\n",
    "\n",
    "possible_colors = webcolors.css3_names_to_hex\n",
    "# colors = np.zeros((df_clean.shape[0], len(possible_colors)), dtype = np.bool)\n",
    "# for idx, row in tqdm(df_clean.iterrows(), total = df_clean.shape[0]):\n",
    "#     for color_idx, color in enumerate(possible_colors):\n",
    "#         if(pd.isnull(row['clean'])):\n",
    "#             continue\n",
    "#         if(re.search(r\"\\b\" + re.escape(color) + r\"\\b\", row['clean'], flags = re.I)):\n",
    "#             colors[idx, color_idx] = 1\n",
    "\n",
    "# with open('ufo_colors.npy', 'wb') as save_file:\n",
    "#     np.save(save_file, colors)\n",
    "\n",
    "with open('/kaggle/input/ufo-colors-list/ufo_colors.npy', 'rb') as load_file:\n",
    "    colors = np.load(load_file)\n",
    "\n",
    "def show_frequent_colors(colors):\n",
    "    print(\"Most frequent colors:\")\n",
    "    for color_idx, color in enumerate(colors):\n",
    "        print(f\"{color_idx+1}. {color[0]}\", end = '')\n",
    "        for x in range(20 - len(color[0])):\n",
    "            print(' ', end = '')\n",
    "        if(color_idx % 3 == 2):\n",
    "            print()\n",
    "    print('\\n')\n",
    "show_frequent_colors(sorted(list(zip(possible_colors, np.sum(colors, axis = 0))), key = lambda x: x[1], reverse = True)[:10])\n",
    "\n",
    "shape_mapping = {\n",
    "    'light': 'circle',\n",
    "    'circle': 'circle',\n",
    "    'teardrop': 'teardrop',\n",
    "    'cigar': 'rectangle',\n",
    "    'disk': 'disk',\n",
    "    'unknown': 'unknown',\n",
    "    'oval': 'oval',\n",
    "    'other': 'unknown',\n",
    "    'sphere': 'circle',\n",
    "    'changing': 'unknown',\n",
    "    'formation': 'unknown',\n",
    "    'flash': 'circle',\n",
    "    'chevron': 'triangle',\n",
    "    'triangle': 'triangle',\n",
    "    'cylinder': 'rectangle',\n",
    "    'fireball': 'circle',\n",
    "    'diamond': 'diamond',\n",
    "    'egg': 'oval',\n",
    "    'cross': 'cross',\n",
    "    'rectangle': 'rectangle',\n",
    "    'cone': 'triangle'\n",
    "}\n",
    "raw_data['shape'] = raw_data['shape'].fillna('unknown')\n",
    "raw_data['shape'] = raw_data['shape'].map(shape_mapping)\n",
    "\n",
    "colors_df = pd.DataFrame(colors, index = df_clean.index, columns = possible_colors)\n",
    "shape_color_df = pd.merge(colors_df, raw_data, how = 'left', left_index = True, right_index = True)\n",
    "\n",
    "possible_shape_color_pairs = []\n",
    "for idx, row in shape_color_df.iterrows():\n",
    "    for color in possible_colors:\n",
    "        if(row[color] == True):\n",
    "            possible_shape_color_pairs.append((row['shape'], color))\n",
    "possible_shape_color_pairs = Counter([x for x in possible_shape_color_pairs if x[0] != 'unknown']).most_common()[:25]\n",
    "tot_sum = np.sum([x[1] for x in possible_shape_color_pairs])\n",
    "\n",
    "fig, ax = plt.subplots(1, 1, figsize = (20, 20))\n",
    "\n",
    "for y_pos in range(4, -1, -1):\n",
    "    for x_pos in range(5):\n",
    "        idx = (4 - y_pos) * 5 + x_pos\n",
    "        if(possible_shape_color_pairs[idx][0][0] == 'circle'):\n",
    "            # Circle\n",
    "            ax.add_patch(Circle((x_pos * 4 + 2, y_pos * 4 + 2), 0.25, color = possible_shape_color_pairs[idx][0][1]))\n",
    "        elif(possible_shape_color_pairs[idx][0][0] == 'rectangle'):\n",
    "            # Rectange\n",
    "            ax.add_patch(Rectangle((x_pos * 4 + 2 - 0.25, y_pos * 4 + 2 - 0.25 / 2), 0.5, 0.25, color = possible_shape_color_pairs[idx][0][1]))\n",
    "        elif(possible_shape_color_pairs[idx][0][0] == 'triangle'):\n",
    "            # Triangle\n",
    "            ax.add_patch(Polygon([[x_pos * 4 + 2 - 0.25, y_pos * 4 + 2 - 0.25], [x_pos * 4 + 2, y_pos * 4 + 2 + 0.25], [x_pos * 4 + 2 + 0.25, y_pos * 4 + 2 - 0.25]], color = possible_shape_color_pairs[idx][0][1]))\n",
    "        elif(possible_shape_color_pairs[idx][0][0] == 'oval'):\n",
    "            # Oval\n",
    "            ax.add_patch(Ellipse((x_pos * 4 + 2, y_pos * 4 + 2), 0.5, 0.25, color = possible_shape_color_pairs[idx][0][1]))\n",
    "        elif(possible_shape_color_pairs[idx][0][0] == 'disk'):\n",
    "            # Disk\n",
    "            ax.add_patch(Ellipse((x_pos * 4 + 2, y_pos * 4 + 2), 0.5, 0.25, color = possible_shape_color_pairs[idx][0][1]))\n",
    "            ax.add_patch(Ellipse((x_pos * 4 + 2, y_pos * 4 + 2), 0.75 / 2, 0.75 / 4, color = '#38393b'))\n",
    "        else:\n",
    "            pass\n",
    "        ax.annotate(f\"{possible_shape_color_pairs[idx][0][1]} {possible_shape_color_pairs[idx][0][0]}\", (x_pos * 4 + 2, y_pos * 4 + 4 - 1.25), ha = 'center', va = 'center', color = 'white', fontsize = 'xx-large')\n",
    "        ax.annotate(f\"({possible_shape_color_pairs[idx][1] * 100 / tot_sum: .1f}%)\", (x_pos * 4 + 2, y_pos * 4 + 1.25), ha = 'center', va = 'center', color = 'white', fontsize = 'large')\n",
    "\n",
    "stars = np.random.uniform(low = 0, high = 20, size = (200, 2))\n",
    "ax.scatter(stars[:, 0], stars[:, 1], color = 'white', s = 0.25)\n",
    "\n",
    "ax.set_facecolor('#38393b')\n",
    "ax.set_xlim(0, 20)\n",
    "ax.set_ylim(0, 20)\n",
    "ax.set_xticks([])\n",
    "ax.set_yticks([])\n",
    "ax.set_title(\"Most Common UFO Sightings\", fontsize = 20)\n",
    "plt.show()"
   ]
  },
  {
   "cell_type": "markdown",
   "id": "bored-anaheim",
   "metadata": {
    "papermill": {
     "duration": 0.028025,
     "end_time": "2021-06-06T19:59:30.069802",
     "exception": false,
     "start_time": "2021-06-06T19:59:30.041777",
     "status": "completed"
    },
    "tags": []
   },
   "source": [
    "### The most frequent colors are white, red & orange\n",
    "\n",
    "This partially holds true with respect to the UFO colours obtained from the word embeddings since red and white are common to both of them.\n",
    "\n",
    "### Orange Circles seem to be the most common UFO sighting\n",
    "\n",
    "I have plotted the top 25 most common UFO sightings. Do note that this is not perfect since solely searching for colors in the textual reports does not guarantee that the color is being used to describe UFOs. For example, if the report contains a text like - \"Through the green leaves, I suddenly saw a bright white light\", then simply searching for colors in the text will make it appear as the UFO sighting was green & white in color. One solution for that is to use advanced NLP and only choose those colors which seem to describe UFOs."
   ]
  },
  {
   "cell_type": "markdown",
   "id": "graduate-wound",
   "metadata": {
    "papermill": {
     "duration": 0.027337,
     "end_time": "2021-06-06T19:59:30.124814",
     "exception": false,
     "start_time": "2021-06-06T19:59:30.097477",
     "status": "completed"
    },
    "tags": []
   },
   "source": [
    "## Level of Detail in Reports <a id=\"3\"></a>\n",
    "---\n",
    "Now unfortunately, there is no information available about which UFO sighting is true and which is false. And it doesn't look possible to even have this information.\n",
    "\n",
    "One method of trying to predict fakeness in UFO sightings is to analyze the level of detail in the report. Often fake news contains content which is not descriptive, informative or comprehensive. Detailed content is often a decent indicator of true news. Applying a similar idea, we can analyze the level of detail in the UFO sighting reports. Having a vague, non-descriptive report could be a decent indicator of a fake UFO sighting. A descriptive report obviously cannot guarantee an actual UFO sighting and additional investigation would definitely be required.\n",
    "\n",
    "For this analysis, I am keeping it simple and equating level of detail to the addition of two terms - \n",
    "1. Size of report (number of non-stopwords)\n",
    "2. Number of adjectives in report"
   ]
  },
  {
   "cell_type": "code",
   "execution_count": 9,
   "id": "subsequent-pickup",
   "metadata": {
    "_kg_hide-input": true,
    "execution": {
     "iopub.execute_input": "2021-06-06T19:59:30.183651Z",
     "iopub.status.busy": "2021-06-06T19:59:30.182984Z",
     "iopub.status.idle": "2021-06-06T19:59:32.285656Z",
     "shell.execute_reply": "2021-06-06T19:59:32.286281Z",
     "shell.execute_reply.started": "2021-06-06T18:54:57.757356Z"
    },
    "papermill": {
     "duration": 2.134162,
     "end_time": "2021-06-06T19:59:32.286482",
     "exception": false,
     "start_time": "2021-06-06T19:59:30.152320",
     "status": "completed"
    },
    "tags": []
   },
   "outputs": [
    {
     "data": {
      "image/png": "[encoded data removed]",
      "text/plain": [
       "<Figure size 720x360 with 1 Axes>"
      ]
     },
     "metadata": {
      "needs_background": "light"
     },
     "output_type": "display_data"
    },
    {
     "name": "stdout",
     "output_type": "stream",
     "text": [
      "\n",
      "\n",
      "UFO Sighting Descriptions with least detail:\n",
      "\n",
      "\" There are currently lights over the golf coast in Naples Florida. \"\n",
      "\" UFO over highway in Orlando, Florida, April 1st 2012! \"\n",
      "\" Triangle shape,,,changing colors,,,then broke into 3 orbs. \"\n",
      "\" Shape with lights hovering then inching then speeding in a direction. \"\n",
      "\" sited just below where the Orion Nebula would be 2 sets of 3 orange spheres \"\n",
      "\" Saw at first one pulsating sphere.  Then a secound.  Both moving very aratctly. \"\n",
      "\" watching fireworks  something went accross the sky very fast \"\n",
      "\" Series of orangeish lights appear and disappear all over sky. \"\n",
      "\" Four orange lights moving southeast and disappeared into the sky. \"\n",
      "\" They moved back and forth up and down right and left then landed behind the trees \"\n"
     ]
    }
   ],
   "source": [
    "# df_clean['length'] = df_clean['clean'].apply(lambda x: len(x.split(' ')))\n",
    "# nlp = spacy.load('en', disable=['ner', 'parser'])\n",
    "# # adjective_pos = ['JJ', 'JJR', 'JJS']\n",
    "# adjectives = np.zeros(raw_data.shape[0])\n",
    "# for idx, row in tqdm(raw_data.iterrows(), total = raw_data.shape[0]):\n",
    "#     if(pd.isnull(row['text'])):\n",
    "#         continue\n",
    "#     adjectives[idx] = len([x.string for x in nlp(row['text']) if x.pos_ == 'ADJ'])\n",
    "# raw_data['num_adjectives'] = pd.Series(adjectives, index = raw_data.index)\n",
    "# detail_df = pd.merge(df_clean, raw_data, how = 'left', left_index = True, right_index = True)[['length', 'num_adjectives']]\n",
    "# detail_df = detail_df.reset_index(drop = False)\n",
    "# detail_df.to_csv('detail.csv', index = False)\n",
    "\n",
    "detail_df = pd.read_csv('/kaggle/input/ufo-sighting-description-detail/detail.csv')\n",
    "corr_val = detail_df[['length', 'num_adjectives']].corr().values[0, 1]\n",
    "\n",
    "fig, ax = plt.subplots(1, 1, figsize = (10, 5))\n",
    "ax.scatter(x = detail_df['length'], y = detail_df['num_adjectives'], alpha = 0.5)\n",
    "ax.set_xlabel(\"Length of Description\", fontsize = 10)\n",
    "ax.set_ylabel(\"Number of adjectives in Description\", fontsize = 10)\n",
    "ax.set_title(f\"Correlation between Length of Description & no. of adjectives: {corr_val:.2f}\", fontsize = 15)\n",
    "plt.show()\n",
    "\n",
    "length_mean = detail_df['length'].mean(); length_std = detail_df['length'].std()\n",
    "num_adj_mean = detail_df['num_adjectives'].mean(); num_adj_std = detail_df['num_adjectives'].std()\n",
    "detail_df['detail_score'] = detail_df.apply(lambda x: ((x['length'] - length_mean) / length_std) + (x['num_adjectives'] - num_adj_mean) / num_adj_std, axis = 1)\n",
    "\n",
    "print(\"\\n\\nUFO Sighting Descriptions with least detail:\\n\")\n",
    "for idx in detail_df[detail_df['detail_score'] < np.quantile(detail_df['detail_score'], 0.001)].sort_values('length', ascending = False).iloc[:10]['index']:\n",
    "    print('\" ' + raw_data.loc[idx]['text'] + ' \"')"
   ]
  },
  {
   "cell_type": "markdown",
   "id": "geological-partner",
   "metadata": {
    "papermill": {
     "duration": 0.028495,
     "end_time": "2021-06-06T19:59:32.343947",
     "exception": false,
     "start_time": "2021-06-06T19:59:32.315452",
     "status": "completed"
    },
    "tags": []
   },
   "source": [
    "As I was expecting, the length of the report and the number of adjectives in it is highly correlated which probably means we don't even need to use both of them. It is also evident from the graph that almost all reports have less than 2000 words with certain exceptions having as many as 5000 words.\n",
    "\n",
    "I have also displayed few reports which I found to have least level of detail. They contain very few non-stopwords and almost no adjectives which really does put a question mark over their validity.\n",
    "\n",
    "A few ways to better capture level of detail could be to also count proper nouns or even by checking for missing values for other data variables like time of reporting, shape of UFO and location of sighting."
   ]
  },
  {
   "cell_type": "markdown",
   "id": "partial-edgar",
   "metadata": {
    "papermill": {
     "duration": 0.028515,
     "end_time": "2021-06-06T19:59:32.402512",
     "exception": false,
     "start_time": "2021-06-06T19:59:32.373997",
     "status": "completed"
    },
    "tags": []
   },
   "source": [
    "## Quantifying Duration <a id=\"4\"></a>\n",
    "---\n",
    "As some of you might have noticed, the duration variable is actually a string. We do not have numerical values like 5, 60 & 300; instead we have strings like 'about 5 seconds', '1 minute roughly' & '5min'. Converting those strings to numbers is extremely difficult since there are a lot of cases to consider. With basic regular expression knowledge, I was able to approximately quantify most of the 90000 durations (except ~6500). I treated words like 'many', 'few', etc. to be treated as 2 for convenience - that is, I treated durations like 'few minutes' as 2 minutes to keep it simple."
   ]
  },
  {
   "cell_type": "code",
   "execution_count": 10,
   "id": "incredible-racing",
   "metadata": {
    "_kg_hide-input": true,
    "execution": {
     "iopub.execute_input": "2021-06-06T19:59:32.470172Z",
     "iopub.status.busy": "2021-06-06T19:59:32.464723Z",
     "iopub.status.idle": "2021-06-06T19:59:44.764375Z",
     "shell.execute_reply": "2021-06-06T19:59:44.764871Z",
     "shell.execute_reply.started": "2021-06-06T19:08:13.848962Z"
    },
    "papermill": {
     "duration": 12.333693,
     "end_time": "2021-06-06T19:59:44.765100",
     "exception": false,
     "start_time": "2021-06-06T19:59:32.431407",
     "status": "completed"
    },
    "tags": []
   },
   "outputs": [
    {
     "data": {
      "image/png": "[encoded data removed]",
      "text/plain": [
       "<Figure size 1080x360 with 1 Axes>"
      ]
     },
     "metadata": {
      "needs_background": "light"
     },
     "output_type": "display_data"
    },
    {
     "name": "stdout",
     "output_type": "stream",
     "text": [
      "\n",
      "Average duration:  11.7 minutes\n",
      "Most frequent duration:  5.0 minutes (appearing  11.9% times)\n"
     ]
    }
   ],
   "source": [
    "def convert_text_into_numbers(x):\n",
    "    if(type(x) == float):\n",
    "        return x\n",
    "    else:\n",
    "        x = x.strip()\n",
    "        x = re.sub(r\"\\+\", \"\", x, flags = re.I)\n",
    "        x = re.sub(r\",\", \"\", x, flags = re.I)\n",
    "        x = re.sub(r\"\\?\", \"\", x, flags = re.I)\n",
    "        x = re.sub(r\"approx.\", \"\", x, flags = re.I)\n",
    "        x = re.sub(r\"approximately\", \"\", x, flags = re.I)\n",
    "        x = x.strip()\n",
    "        \n",
    "        x = re.sub(r\"secound\", 'second', x, flags = re.I)\n",
    "        x = re.sub(r\"secend\", 'second', x, flags = re.I)\n",
    "        x = re.sub(r\"secopnd\", 'second', x, flags = re.I)\n",
    "        x = re.sub(r\"minet\", 'minute', x, flags = re.I)\n",
    "        x = re.sub(r\"minit\", 'minute', x, flags = re.I)\n",
    "        x = re.sub(r\"miute\", 'minute', x, flags = re.I)\n",
    "        x = re.sub(r\"mnute\", \"minute\", x, flags = re.I)\n",
    "        x = re.sub(r\"minuet\", \"minute\", x, flags = re.I)\n",
    "        x = re.sub(r\"minuite\", \"minute\", x, flags = re.I)\n",
    "        x = re.sub(r\"mintue\", \"minute\", x, flags = re.I)\n",
    "        x = re.sub(r\"minut[s]*$\", \"minute\", x, flags = re.I)\n",
    "        x = re.sub(r\"minuto\", \"minute\", x, flags = re.I)\n",
    "        x = re.sub(r\"mineut\", \"minute\", x, flags = re.I)\n",
    "        x = re.sub(r\"mimit\", \"minute\", x, flags = re.I)\n",
    "        x = re.sub(r\"minte\", \"minute\", x, flags = re.I)\n",
    "        x = re.sub(r\"minuit\", \"minute\", x, flags = re.I)\n",
    "        \n",
    "        x = re.sub(r\"sec[s]*[\\.]*$\", 'second', x, flags = re.I)\n",
    "        x = re.sub(r\"(\\d+s)$\", r'\\1econd', x, flags = re.I)\n",
    "        x = re.sub(r\"min[s]*[\\.]*$\", \"minute\", x, flags = re.I)\n",
    "        x = re.sub(r\"(\\d+m)$\", r'\\1inute', x, flags = re.I)\n",
    "        x = re.sub(r\"hr[s]*[\\.]*$\", \"hour\", x, flags = re.I)\n",
    "        x = re.sub(r\"(\\d+h)$\", r'\\1our', x, flags = re.I)\n",
    "        \n",
    "        x = re.sub(r\"zero\", \"0\", x, flags = re.I)\n",
    "        x = re.sub(r\"one\", \"1\", x, flags = re.I)\n",
    "        x = re.sub(r\"two\", \"2\", x, flags = re.I)\n",
    "        x = re.sub(r\"three\", \"3\", x, flags = re.I)\n",
    "        x = re.sub(r\"four\", \"4\", x, flags = re.I)\n",
    "        x = re.sub(r\"five\", \"5\", x, flags = re.I)\n",
    "        x = re.sub(r\"six\", \"6\", x, flags = re.I)\n",
    "        x = re.sub(r\"seven\", \"7\", x, flags = re.I)\n",
    "        x = re.sub(r\"eight\", \"8\", x, flags = re.I)\n",
    "        x = re.sub(r\"nine\", \"9\", x, flags = re.I)\n",
    "        \n",
    "        x = re.sub(r\"few\", \"2\", x, flags = re.I)\n",
    "        x = re.sub(r\"many\", \"2\", x, flags = re.I)\n",
    "        x = re.sub(r\"several\", \"2\", x, flags = re.I)\n",
    "        x = re.sub(r\"couple\", \"2\", x, flags = re.I)\n",
    "        x = re.sub(r\"mere\", \"2\", x, flags = re.I)\n",
    "        x = re.sub(r\"^a \", \"1\", x, flags = re.I)\n",
    "        x = re.sub(r\"^an \", \"1\", x, flags = re.I)\n",
    "        x = re.sub(r\" a \", \"1\", x, flags = re.I)\n",
    "        x = re.sub(r\" an \", \"1\", x, flags = re.I)\n",
    "        \n",
    "        x = re.sub(r\"^second$\", \"1 second\", x, flags = re.I)\n",
    "        x = re.sub(r\"^minute$\", \"1 minute\", x, flags = re.I)\n",
    "        x = re.sub(r\"^hour$\", \"1 hour\", x, flags = re.I)\n",
    "        x = re.sub(r\"^seconds$\", \"2 second\", x, flags = re.I)\n",
    "        x = re.sub(r\"^minutes$\", \"2 minute\", x, flags = re.I)\n",
    "        x = re.sub(r\"^hours$\", \"2 hour\", x, flags = re.I)\n",
    "        \n",
    "        new_x = []\n",
    "        add_words = False\n",
    "        for word in x.split(' '):\n",
    "            try:\n",
    "                new_word = str(w2n.word_to_num(word))\n",
    "            except:\n",
    "                new_word = word\n",
    "            if(add_words == True):\n",
    "                new_x.append(new_word)\n",
    "            elif(new_word.isdigit()):\n",
    "                add_words = True\n",
    "                new_x.append(new_word)\n",
    "        if(add_words == True):\n",
    "            x = ' '.join(new_x)\n",
    "        \n",
    "        return x\n",
    "\n",
    "def convert_seconds_into_numbers(x):\n",
    "    if(type(x) == float):\n",
    "        return x\n",
    "    else:\n",
    "        search_x = re.search(r\"\\d+[ ]*seconds*\", x, flags = re.I)\n",
    "        if(search_x):\n",
    "            return float(''.join([x for x in search_x.group(0) if x.isdigit()]))\n",
    "        else:\n",
    "            return x\n",
    "\n",
    "def convert_minutes_into_numbers(x):\n",
    "    if(type(x) == float):\n",
    "        return x\n",
    "    else:\n",
    "        search_x = re.search(r\"\\d+[ ]*minutes*\", x, flags = re.I)\n",
    "        if(search_x):\n",
    "            return float(''.join([x for x in search_x.group(0) if x.isdigit()])) * 60\n",
    "        else:\n",
    "            return x\n",
    "\n",
    "def convert_hours_into_numbers(x):\n",
    "    if(type(x) == float):\n",
    "        return x\n",
    "    else:\n",
    "        search_x = re.search(r\"\\d+[ ]*hours*\", x, flags = re.I)\n",
    "        if(search_x):\n",
    "            return float(''.join([x for x in search_x.group(0) if x.isdigit()])) * 3600\n",
    "        else:\n",
    "            return x\n",
    "\n",
    "duration = [convert_text_into_numbers(x) for x in raw_data['duration']]\n",
    "duration = [convert_seconds_into_numbers(x) for x in duration]\n",
    "duration = [convert_minutes_into_numbers(x) for x in duration]\n",
    "duration = [convert_hours_into_numbers(x) for x in duration]\n",
    "\n",
    "numerical_duration = [x for x in duration if type(x) != str]\n",
    "numerical_duration = [x for x in numerical_duration if math.isnan(x) == False]\n",
    "upper_limit = np.quantile(numerical_duration, 0.99)\n",
    "numerical_duration = [x for x in numerical_duration if x <= upper_limit]\n",
    "\n",
    "fig, ax = plt.subplots(1, 1, figsize = (15, 5))\n",
    "ax.hist(numerical_duration, bins = 150)\n",
    "ax.set_xlabel(\"Duration (secs)\", fontsize = 10)\n",
    "ax.set_ylabel(\"Frequency\", fontsize = 10)\n",
    "ax.set_title(\"Duration Histogram\", fontsize = 15)\n",
    "plt.show()\n",
    "\n",
    "print(f\"\\nAverage duration: {np.mean(numerical_duration) / 60: .1f} minutes\")\n",
    "print(f\"Most frequent duration: {stats.mode(numerical_duration).mode[0] / 60: .1f} minutes (appearing {stats.mode(numerical_duration).count[0] / len(numerical_duration) * 100: .1f}% times)\")"
   ]
  },
  {
   "cell_type": "markdown",
   "id": "activated-northwest",
   "metadata": {
    "papermill": {
     "duration": 0.030022,
     "end_time": "2021-06-06T19:59:44.825529",
     "exception": false,
     "start_time": "2021-06-06T19:59:44.795507",
     "status": "completed"
    },
    "tags": []
   },
   "source": [
    "The durations do have a rather large range of values, ranging from a few seconds to almost 3 hours. In fact, among the ~6500 durations which I wasn't able to quantify, I noticed a few ones like 'overnight' and 'three months' which indicates that the range shown here actually extends way beyond. Also, the most frequent duration mentioned in the reports was 5 minutes (300 seconds)."
   ]
  },
  {
   "cell_type": "markdown",
   "id": "patent-principle",
   "metadata": {
    "papermill": {
     "duration": 0.029687,
     "end_time": "2021-06-06T19:59:44.885175",
     "exception": false,
     "start_time": "2021-06-06T19:59:44.855488",
     "status": "completed"
    },
    "tags": []
   },
   "source": [
    "# Thank You!\n",
    "---\n",
    "I hope you enjoyed the analysis! Feel free to check out my code if interested. If you have any suggestions or you wish to point out any mistake which I may have done, do let me know."
   ]
  },
  {
   "cell_type": "code",
   "execution_count": null,
   "id": "similar-nightlife",
   "metadata": {
    "papermill": {
     "duration": 0.040728,
     "end_time": "2021-06-06T19:59:44.955894",
     "exception": false,
     "start_time": "2021-06-06T19:59:44.915166",
     "status": "completed"
    },
    "tags": []
   },
   "outputs": [],
   "source": []
  }
 ],
 "metadata": {
  "kernelspec": {
   "display_name": "Python 3",
   "language": "python",
   "name": "python3"
  },
  "language_info": {
   "codemirror_mode": {
    "name": "ipython",
    "version": 3
   },
   "file_extension": ".py",
   "mimetype": "text/x-python",
   "name": "python",
   "nbconvert_exporter": "python",
   "pygments_lexer": "ipython3",
   "version": "3.7.10"
  },
  "papermill": {
   "default_parameters": {},
   "duration": 131.959324,
   "end_time": "2021-06-06T19:59:46.366609",
   "environment_variables": {},
   "exception": null,
   "input_path": "__notebook__.ipynb",
   "output_path": "__notebook__.ipynb",
   "parameters": {},
   "start_time": "2021-06-06T19:57:34.407285",
   "version": "2.3.3"
  }
 },
 "nbformat": 4,
 "nbformat_minor": 5
}
